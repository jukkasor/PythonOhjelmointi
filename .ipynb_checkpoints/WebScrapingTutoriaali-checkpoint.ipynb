{
 "cells": [
  {
   "cell_type": "markdown",
   "metadata": {},
   "source": [
    "# Web Scraping-tutorial\n"
   ]
  },
  {
   "cell_type": "markdown",
   "metadata": {},
   "source": [
    "Tämän tutoriaalin tarkoitus on tutustuttaa käyttäjä pythonin BeatifulSoup-kirjastoon, jota voidaan hyödyntää hakemaan netistä dataa esim. sääilmoituksia, urheilutuloksia tai mitä tahansa."
   ]
  },
  {
   "cell_type": "markdown",
   "metadata": {},
   "source": [
    "Harjoituksessa käydään läpi miten saadaan haettua paikkakuntakohtainen sää ilmatieteenlaitoksen nettisivuilta.  "
   ]
  },
  {
   "cell_type": "markdown",
   "metadata": {},
   "source": [
    "Tarkastellaan hieman ensiksi paikkakuntien url-osoitteita:\n",
    "\n",
    "[Kuopio](https://ilmatieteenlaitos.fi/saa/kuopio)\n",
    "\n",
    "\n",
    "[Siilinjärvi](https://ilmatieteenlaitos.fi/saa/siilinj%C3%A4rvi)\n"
   ]
  },
  {
   "cell_type": "markdown",
   "metadata": {},
   "source": [
    "Kun käydään kyseisillä sivuilla, huomataan, että osoite on muotoa:\n",
    "\n",
    "https://ilmatieteenlaitos.fi/saa/siilinjärvi\n",
    "\n",
    "https://ilmatieteenlaitos.fi/saa/kuopio\n",
    "\n",
    "Ts. url koostuu rungosta ja paikkakunnasta. Tällä pääsemme alkuun."
   ]
  },
  {
   "cell_type": "code",
   "execution_count": 6,
   "metadata": {},
   "outputs": [
    {
     "name": "stdout",
     "output_type": "stream",
     "text": [
      "Yhteyden muodostaminen onnistui.\n"
     ]
    }
   ],
   "source": [
    "#Haetaan tarvittavat kirjastot\n",
    "import requests\n",
    "from bs4 import BeautifulSoup\n",
    "import matplotlib.pyplot as plt\n",
    "import numpy as np\n",
    "\n",
    "#Muodostetaan url-osoite\n",
    "paikkakunta = \"kuopio\"\n",
    "urlRunko = \"http://ilmatieteenlaitos.fi/saa/\" \n",
    "urlOsoite = urlRunko + paikkakunta\n",
    "\n",
    "#Tarkistetaan, että sivusta on käytössä\n",
    "sivuOk = requests.get(urlOsoite)\n",
    "#Jos status_code on 200, niin homma toimii\n",
    "if( sivuOk.status_code == 200):\n",
    "    print(\"Yhteyden muodostaminen onnistui.\")\n",
    "else:\n",
    "    print(\"Yhteyden muodostaminen epäonnistui.\")\n",
    "    \n",
    "soup = BeautifulSoup(page.text, 'html.parser')\n",
    "print(soup)\n",
    "    "
   ]
  }
 ],
 "metadata": {
  "kernelspec": {
   "display_name": "Python 3",
   "language": "python",
   "name": "python3"
  },
  "language_info": {
   "codemirror_mode": {
    "name": "ipython",
    "version": 3
   },
   "file_extension": ".py",
   "mimetype": "text/x-python",
   "name": "python",
   "nbconvert_exporter": "python",
   "pygments_lexer": "ipython3",
   "version": "3.6.1"
  }
 },
 "nbformat": 4,
 "nbformat_minor": 2
}
