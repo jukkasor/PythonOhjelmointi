{
 "cells": [
  {
   "cell_type": "code",
   "execution_count": null,
   "metadata": {
    "collapsed": true
   },
   "outputs": [],
   "source": [
    "#Ohjelman tehtävänä on havainnollistaa\n",
    "#entropiaa.\n",
    "\n",
    "import random\t#Random\n",
    "\n",
    "def pallonPoisto(purkki):\n",
    "\treturn purkki - 1\n",
    "\t\n",
    "def pallonLisays(purkki):\n",
    "\treturn purkki + 1\n",
    "\t\n",
    "\t\n",
    "\n",
    "\n",
    "#Maaritellaan purkissa olevian pallojen maara\n",
    "\n",
    "purkinAPallot = 4000\n",
    "purkinBPallot = 10000\n",
    "\n",
    "purkinValitsin = -1\n",
    "\n",
    "#Silmukka\n",
    "while(1 < 2):\n",
    "\t\n",
    "\t\n",
    "\t#Lasketaan tod.näk. kummasta purkista pallo otetaan\n",
    "\tpurkinValitsin = random.randint(0,99)\n",
    "\tkokPallojenLkm = purkinAPallot + purkinBPallot\n",
    "\ttodNakAPurkki = (purkinAPallot / kokPallojenLkm)*100\n",
    "\t#Nolla on purkki A, 1 on purkki B\n",
    "\tif(purkinValitsin <= todNakAPurkki):\n",
    "\t\t#A --> B:hen pallo\n",
    "\t\tpurkinAPallot = pallonPoisto(purkinAPallot)\n",
    "\t\tpurkinBPallot = pallonLisays(purkinBPallot)\n",
    "\telse:\n",
    "\t\t#B:sta --> A:han\n",
    "\t\tpurkinBPallot = pallonPoisto(purkinBPallot)\n",
    "\t\tpurkinAPallot = pallonLisays(purkinAPallot)\n",
    "\t\t\n",
    "\tif(purkinAPallot <= 0 or purkinBPallot <= 0):\n",
    "\t\tbreak\n",
    "\t\t\n",
    "\tprint(\"Purkki A pallojen lkm:\",purkinAPallot)\t\n",
    "\tprint(\"Purkki B pallojen lkm:\",purkinBPallot)\t"
   ]
  }
 ],
 "metadata": {
  "kernelspec": {
   "display_name": "Python 3",
   "language": "python",
   "name": "python3"
  },
  "language_info": {
   "codemirror_mode": {
    "name": "ipython",
    "version": 3
   },
   "file_extension": ".py",
   "mimetype": "text/x-python",
   "name": "python",
   "nbconvert_exporter": "python",
   "pygments_lexer": "ipython3",
   "version": "3.6.1"
  }
 },
 "nbformat": 4,
 "nbformat_minor": 2
}
