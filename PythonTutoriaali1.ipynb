{
 "cells": [
  {
   "cell_type": "markdown",
   "metadata": {},
   "source": [
    "# Opas python-ohjelmointiin\n",
    "\n",
    " $\n",
    "-jos\n",
    " $\n"
   ]
  },
  {
   "cell_type": "markdown",
   "metadata": {},
   "source": [
    "Tämän oppaan on tarkoitus toimia yksinkertaisena johdatuksena python-ohjelmointiin. Python-ohjelmointi on oiva sukellus ohjelmointiin niin yläkoululaisille kuin lukiolaisellekkin.\n",
    "Pythonin hyödyt:\n",
    "\n",
    "- helppo syntaksi\n",
    "\n",
    "- paljon kirjastoja\n",
    "\n",
    "- pystyy tekemään melkein mitä tahansa"
   ]
  },
  {
   "cell_type": "markdown",
   "metadata": {},
   "source": [
    "Perussanastoa:\n",
    "\n",
    "Syntaksi (syntax) = \"kielioppi\"\n",
    "\n",
    "Kääntäjä (compiler) = kääntää koodin konekieleksi (= kieli jota kone ymmärtää)\n",
    "\n",
    "Kirjasto (library) = sisältää valmiiksi tehtyjä funktiota (helpottavat ohjelman työstöä).\n",
    "\n",
    "Muuttuja = symbolinen tietovarasto\n",
    "\n"
   ]
  },
  {
   "cell_type": "code",
   "execution_count": 26,
   "metadata": {
    "scrolled": true
   },
   "outputs": [
    {
     "name": "stdout",
     "output_type": "stream",
     "text": [
      "Hello world\n"
     ]
    }
   ],
   "source": [
    "# <--- Hashtag, risuaita\n",
    "# Risuaidalla voidaan kommentoida rivi eikä kyseinen rivi tule koodiin\n",
    "# HUOM! Äärimmäisen tärkeää, että kommentoi koodia (toisen helpompi lukea)\n",
    "#Painamalla Ctrl + Enter notebook ajaa koodin\n",
    "\n",
    "#Ensimmäinen ohjelma\n",
    "#Kutsutaan funktio \"print\", joka tulostaa merkkijonon joka on sulkujen sisällä.\n",
    "print(\"Hello world\")\n"
   ]
  },
  {
   "cell_type": "markdown",
   "metadata": {},
   "source": [
    "=================================================================================================================="
   ]
  },
  {
   "cell_type": "markdown",
   "metadata": {},
   "source": [
    "## Tehtäviä\n"
   ]
  },
  {
   "cell_type": "markdown",
   "metadata": {},
   "source": [
    "Muuta edellistä koodia siten, että:\n",
    "\n",
    "a) saat virheilmoituksen.\n",
    "\n",
    "b) tulostat \"Hello world\":in kolmelle eri riville.\n"
   ]
  },
  {
   "cell_type": "markdown",
   "metadata": {},
   "source": [
    "=================================================================================================================="
   ]
  },
  {
   "cell_type": "markdown",
   "metadata": {},
   "source": [
    "# Tietotyypit"
   ]
  },
  {
   "cell_type": "markdown",
   "metadata": {},
   "source": [
    "Yllä olevassa ohjelmassa tulostettiin merkkijono. Ohjelmoinnissa on erilaisia tietotyyppejä ja python kielessä ne jaetaan seuraaviin (suluissa olevia käytetään koodissa, jos tarvetta):\n",
    "\n",
    "    integer (int) = kokonaisluvut\n",
    "\n",
    "    string (str) = merkkijono\n",
    "\n",
    "    character (char) = yksittäinen merkki\n",
    "\n",
    "    float (float)  =  desimaaliluku\n",
    "\n",
    "Pythonin syntaksissa ei ole tarvetta alustaa muuttujia tietyiksi muistityypeiksi, muissa kielissä (esim. C-kielet) tämä vaaditaan. Tosin muuttujia voidaan muuttaa toisiksi muistityypeiksi.\n",
    "\n"
   ]
  },
  {
   "cell_type": "code",
   "execution_count": 24,
   "metadata": {},
   "outputs": [
    {
     "name": "stdout",
     "output_type": "stream",
     "text": [
      "x on <class 'int'>\n",
      "y on <class 'str'>\n"
     ]
    }
   ],
   "source": [
    "#Muutetaan muuttujien muistityyppejä\n",
    "\n",
    "#Alustetaan muuttuja luku\n",
    "x = 523\n",
    "#Muutetaan luvusta merkkijonoksi\n",
    "y = str(x)\n",
    "\n",
    "#type-funktionlla voidaan tarkistaa mitä tyyppiä muuttujat ovat.\n",
    "print(\"x on\", type(x))\n",
    "print(\"y on\",type(y))"
   ]
  },
  {
   "cell_type": "markdown",
   "metadata": {},
   "source": [
    "# Aritmeettiset operaattorit"
   ]
  },
  {
   "cell_type": "markdown",
   "metadata": {},
   "source": [
    "Aritmeettisillä operaattoreilla tarkoitetaan merkintätapaa, jolla kuvataan yhteen-, vähennys-, jako- ja kertolaskua sekä jakojäännöstä. Alla olevassa taulukossa on koottu aritmeettiset operaattorit, joita Pythonissa voidaan käyttää (yleistyvät myös C-kieliin).\n",
    "\n",
    "\n",
    " \\begin{array}{lcr}\n",
    "\\mbox{Operaattori} & \\mbox{Kuvaus}   \\\\\n",
    "\\hline\n",
    "\\mbox{Yhteenlasku} & +  \\\\\n",
    "\\mbox{Vähennyslasku} & -  \\\\\n",
    "\\mbox{Jakolasku} &  /  \\\\\n",
    "\\mbox{Kertolasku} & * \\\\\n",
    "\\mbox{Jakojäännös} & \\% \\\\\n",
    " \\end{array}  \n"
   ]
  },
  {
   "cell_type": "code",
   "execution_count": 8,
   "metadata": {},
   "outputs": [
    {
     "name": "stdout",
     "output_type": "stream",
     "text": [
      "6\n"
     ]
    }
   ],
   "source": [
    "#Yhteenlasku\n",
    "#Alustetaan x ja y\n",
    "x = 4\n",
    "y = 2\n",
    "#Tulostetaan vastaus\n",
    "print(x + y)"
   ]
  },
  {
   "cell_type": "code",
   "execution_count": null,
   "metadata": {
    "collapsed": true
   },
   "outputs": [],
   "source": [
    "#Vähennyslasku\n",
    "#Yhteenlasku\n",
    "#Alustetaan x ja y\n",
    "x = 4\n",
    "y = 2\n",
    "print(x - y)"
   ]
  },
  {
   "cell_type": "code",
   "execution_count": 2,
   "metadata": {},
   "outputs": [
    {
     "name": "stdout",
     "output_type": "stream",
     "text": [
      "2.0\n"
     ]
    }
   ],
   "source": [
    "#Jakolasku\n",
    "#Alustetaan x ja y\n",
    "x = 4\n",
    "y = 2\n",
    "print(x / y)"
   ]
  },
  {
   "cell_type": "code",
   "execution_count": 7,
   "metadata": {},
   "outputs": [
    {
     "name": "stdout",
     "output_type": "stream",
     "text": [
      "8\n"
     ]
    }
   ],
   "source": [
    "#Kertolasku\n",
    "#Alustetaan x ja y\n",
    "x = 4\n",
    "y = 2\n",
    "print(x * y)"
   ]
  },
  {
   "cell_type": "code",
   "execution_count": 5,
   "metadata": {},
   "outputs": [
    {
     "name": "stdout",
     "output_type": "stream",
     "text": [
      "0\n"
     ]
    }
   ],
   "source": [
    "#Jakojäännös\n",
    "#Alustetaan x ja y\n",
    "x = 4\n",
    "y = 2\n",
    "print(x % y)\n",
    "\n",
    "#Miksi jakojääännös on nolla?\n",
    "#Mihin tätä operaattoria voitaisiin käyttää?"
   ]
  },
  {
   "cell_type": "markdown",
   "metadata": {},
   "source": [
    "=================================================================================================================="
   ]
  },
  {
   "cell_type": "markdown",
   "metadata": {},
   "source": [
    "## Tehtäviä"
   ]
  },
  {
   "cell_type": "markdown",
   "metadata": {},
   "source": [
    "Kirjoita ohjelma, joka laskee seuraavat laskut:\n",
    "- Koulussa on 257 oppilasta, joista 17 on sairaana. Ruokala on tilannut 1 437 omenaa. Voidaanko omenat jakaa tasan kaikille oppilaille?\n",
    "- Kuinka monta omenaa on per oppilas?"
   ]
  },
  {
   "cell_type": "code",
   "execution_count": 9,
   "metadata": {
    "collapsed": true
   },
   "outputs": [],
   "source": [
    "#Kirjoita koodi tänne."
   ]
  },
  {
   "cell_type": "markdown",
   "metadata": {},
   "source": [
    "=================================================================================================================="
   ]
  },
  {
   "cell_type": "code",
   "execution_count": 1,
   "metadata": {},
   "outputs": [
    {
     "name": "stdout",
     "output_type": "stream",
     "text": [
      "Yhteenlasku: 7\n",
      "Vähennyslasku: 3\n",
      "Kertolasku: 10\n",
      "Jakolasku: 2.5\n",
      "Potenssi: 25\n"
     ]
    }
   ],
   "source": [
    "#Seuraavassa demossa demonstroidaan datatyyppejä sekä matemaattisia operaattoreita.\n",
    "\n",
    "#Luodaan muuttujat x ja y annetaan niille arvot\n",
    "x = 5\n",
    "y = 2\n",
    "\n",
    "#Huom! x ja y:n tulee alkaa samalta riviltä, pythonin syntaksi vaatii, muuten tulee virhe.\n",
    "#Voit kokeilla mitä tapahtuu, kun laitat välilyönnin muuttuja y eteen.\n",
    "\n",
    "#Olkoon muuttuja c x:n ja y:n summa eli\n",
    "c = x + y\n",
    "#Tulostetaan c\n",
    "print(\"Yhteenlasku:\",c)\n",
    "#Määritetään muuttuja c uudestaan ensiksi vähennys-, kerto-, jako- ja lopuksi vielä potenssilasku.\n",
    "c = x-y\n",
    "print(\"Vähennyslasku:\",c)\n",
    "\n",
    "#Huom! print-funktiossa voit pilkulla erottaa muuttujia toisistaan.\n",
    "\n",
    "c = x*y\n",
    "print(\"Kertolasku:\",c)\n",
    "\n",
    "c = x/y\n",
    "print(\"Jakolasku:\",c)\n",
    "\n",
    "#Kantalukuna on x, ja potenssina on y\n",
    "c = x**y\n",
    "print(\"Potenssi:\", c)\n"
   ]
  },
  {
   "cell_type": "markdown",
   "metadata": {},
   "source": [
    "=================================================================================================================="
   ]
  },
  {
   "cell_type": "markdown",
   "metadata": {},
   "source": [
    "## Tehtäviä\n"
   ]
  },
  {
   "cell_type": "markdown",
   "metadata": {},
   "source": [
    "Muuttumalla vain x:n ja y:n arvoja, ohjelman tulisi tulostaa:\n",
    "\n",
    "a) kerto- ja jakolaskusta tulisi nolla\n",
    "\n",
    "b) Saada virheilmoitus \"ZeroDivisionError\"\n",
    "\n",
    "c) Muuta muuttujan y:n arvoa siten, että yhteenlaskusta tulisi positiivinen ja vähennyslaskusta negatiivinen luku.\n",
    "\n",
    "d) Kokeile miten suuren luvun saat aikaiseksi potenssi laskusta muuttamalla y:n ja x:n arvoja. Miten käy laskenta-ajalle?"
   ]
  },
  {
   "cell_type": "markdown",
   "metadata": {},
   "source": [
    "=================================================================================================================="
   ]
  },
  {
   "cell_type": "markdown",
   "metadata": {},
   "source": [
    "## Print-funktio"
   ]
  },
  {
   "cell_type": "markdown",
   "metadata": {},
   "source": [
    "Pythonin print-funktiolla on myös seuraavia hyödyllisiä ominaisuuksia."
   ]
  },
  {
   "cell_type": "code",
   "execution_count": 3,
   "metadata": {},
   "outputs": [
    {
     "name": "stdout",
     "output_type": "stream",
     "text": [
      "MoiMoiMoiMoiMoi\n"
     ]
    }
   ],
   "source": [
    "#Tarkastellaan hieman print-funktion ominaisuuksia.\n",
    "\n",
    "print(\"Moi\"*5)"
   ]
  },
  {
   "cell_type": "markdown",
   "metadata": {},
   "source": [
    "Kuten yllä huomataan, laittamalla viestin perään \"$*$luku\", niin viesti toistuu luvun verran ($*$ on kertolasku operaattori). "
   ]
  },
  {
   "cell_type": "code",
   "execution_count": 5,
   "metadata": {},
   "outputs": [
    {
     "name": "stdout",
     "output_type": "stream",
     "text": [
      "Terve tuloa! - tekstin pituus on 12\n"
     ]
    }
   ],
   "source": [
    "#Alustetaan merkkijono\n",
    "alkuteksti = \"Terve tuloa!\"\n",
    "#funktiolla len()-saadaan merkkijonen pituus\n",
    "tekstiPituus = len(alkuteksti)\n",
    "#tulostetaan merkkijonen pituus\n",
    "print(alkuteksti, \"- tekstin pituus on\", tekstiPituus)"
   ]
  },
  {
   "cell_type": "code",
   "execution_count": 9,
   "metadata": {},
   "outputs": [
    {
     "name": "stdout",
     "output_type": "stream",
     "text": [
      "kissat ovat söpöjä ja koirat ovat vilkkaita!\n",
      "koirat ovat söpöjä ja kissat ovat vilkkaita!\n"
     ]
    }
   ],
   "source": [
    "#Print-voidaan myös tulostaa seuraavasti\n",
    "\n",
    "#Alustetaan merkkijono\n",
    "eläin1 = \"kissa\"\n",
    "eläin2 = \"koira\"\n",
    "\n",
    "#Tulostetaan teksti\n",
    "print(\"{}t ovat söpöjä ja {}t ovat vilkkaita!\".format(eläin1,eläin2))\n",
    "#{} määrää mihin kohtaan merkkijono tulee ja format()-päättää kumpi tulee\n",
    "#ensimmäiseksi.\n",
    "#Näin voi helposti muokata merkkijonoa\n",
    "print(\"{}t ovat söpöjä ja {}t ovat vilkkaita!\".format(eläin2,eläin1))\n"
   ]
  },
  {
   "cell_type": "code",
   "execution_count": 10,
   "metadata": {},
   "outputs": [
    {
     "name": "stdout",
     "output_type": "stream",
     "text": [
      "Tämä hernekeitto on sulavan herkkullista.\n"
     ]
    }
   ],
   "source": [
    "#Välttämättä merkkijonoa ei tarvitse alustaa ennen tulostusta.\n",
    "print(\"Tämä {ruoka} on {adjektiivi}.\".format(ruoka = \"hernekeitto\", adjektiivi = \"sulavan herkkullista\"))"
   ]
  },
  {
   "cell_type": "markdown",
   "metadata": {},
   "source": [
    "=================================================================================================================="
   ]
  },
  {
   "cell_type": "markdown",
   "metadata": {},
   "source": [
    "## Tehtäviä"
   ]
  },
  {
   "cell_type": "markdown",
   "metadata": {},
   "source": [
    "Tee seuraavat tehtävät:\n",
    "- Kirjoita ohjelma joka tulostaa seuraavan tekstin automaattisesti\n",
    "        ********\n",
    "        *Teksti*\n",
    "        ********\n",
    "  Ts. tekee laatikon tekstin ympärille.    \n"
   ]
  },
  {
   "cell_type": "code",
   "execution_count": 11,
   "metadata": {
    "collapsed": true
   },
   "outputs": [],
   "source": [
    "#Kirjoita koodi tähän."
   ]
  },
  {
   "cell_type": "markdown",
   "metadata": {},
   "source": [
    "=================================================================================================================="
   ]
  },
  {
   "cell_type": "markdown",
   "metadata": {},
   "source": [
    "# Ehtolauseet "
   ]
  },
  {
   "cell_type": "markdown",
   "metadata": {},
   "source": [
    "Ehtolauseilla voidaan antaa ohjelmalle ehtoja ja tekemään mitä halutaan. Vertailuoperaattorit palauttavat totuusarvon eli joko TOSI tai EPÄTOSI.\n",
    "Matemaattiset ehdot python-syntaksissa:\n",
    "\n",
    " \\begin{array}{|l|c|r|}\n",
    " \\hline\n",
    " \\mbox{Operaattori}  & \\mbox{Selitys} &\\mbox{Esimerkki} \\\\\n",
    " \\hline\n",
    " < & \\mbox{Palauttaa totuusarvon TOSI, jos a on pienempi kuin b} & a < b   \\\\\n",
    " \\hline\n",
    " > & \\mbox{Palauttaa totuusarvon TOSI, jos a on suurempi kuin b.} & a > b  \\\\\n",
    " \\hline\n",
    " =<& \\mbox{Palauttaa totuusarvon TOSI, jos a on joko b tai pienempi kuin b.} &a =< b  \\\\\n",
    " \\hline\n",
    " =>&\\mbox{Palauttaa totuusarvon TOSI, jos a on joko b tai suurempi kuin b.} &a => b  \\\\\n",
    " \\hline\n",
    " ==& \\mbox{Palauttaa totuusarvon TOSI, jos a on b.} &a == b \\\\\n",
    " \\hline\n",
    " \\end{array}  \n",
    "\n",
    "Huom! a = b ja a == b ei ole sama asia. Tapauksessa \"a=b\" a:sta tulee b, kun taas tapausessa \"a == b\" a:ta verrataan b:hen. Jos muuttujat ovat samat, ehto palauttaa toden.\n",
    "\n"
   ]
  },
  {
   "cell_type": "markdown",
   "metadata": {},
   "source": [
    "If-ehto toimii siten, että jos ehto on tosi niin silloin mennään if-ehdon sisälle muussa tapauksessa jatketaan eteenpäin.\n",
    "\n",
    "If-ehdon syntaksi:\n",
    "\n",
    "    if(ehto):\n",
    "        koodi\n"
   ]
  },
  {
   "cell_type": "code",
   "execution_count": null,
   "metadata": {
    "collapsed": true
   },
   "outputs": [],
   "source": [
    "#IF-ehto\n",
    "\n",
    "#Yksinkertainen koodi jossa kysytään laukun massa ja hylätään liian suuri laukku.\n",
    "#input-funktiolla voidaan syöttää komentoriville arvo, joka tässä tapauksessa menee muuttujan \"laukunMassa\" arvoksi.\n",
    "#float-funktio input-funktion ulkopuolella muuttaa muuttujan arvon merkkijonosta numeroksi.\n",
    "laukunMassa = float(input(\"Anna laukun massa:\"))\n",
    "\n",
    "#Ehtolause\n",
    "#Jos laukun massa on yli 50 kg, niin hylätään. Muussa tapauksessa toivotetaan hyvää matkaa.\n",
    "\n",
    "if(laukunMassa > 50):\n",
    "    print(\"Laukku on liian painava.\")\n",
    "else:\n",
    "    print(\"Hyvää matkaa!\")\n",
    "#Huomaa if-lauseen syntaksi. if(ehto): ja tämän jälkeen jos ehto on tosi, niin tarvittava koodi ei saa alkaa \n",
    "#samalta riviltä!!!!\n",
    "\n"
   ]
  },
  {
   "cell_type": "markdown",
   "metadata": {},
   "source": [
    "=================================================================================================================="
   ]
  },
  {
   "cell_type": "markdown",
   "metadata": {},
   "source": [
    "## Tehtävä"
   ]
  },
  {
   "cell_type": "markdown",
   "metadata": {},
   "source": [
    "Tee ohjelma joka kysyy käyttäjältä ikää ja sen jälkeen antaa lipun hinnan. Lippujen hinnat ovat seuraavat:\n",
    "\n",
    "    Ikä     Hinta  \n",
    "   ----------------------------------\n",
    "    0-5      ilmainen\n",
    "  ------------------------------------   \n",
    "    6-16     10 euroa\n",
    "  ------------------------------------  \n",
    "    yli 16   15 euroa"
   ]
  },
  {
   "cell_type": "code",
   "execution_count": 1,
   "metadata": {
    "collapsed": true
   },
   "outputs": [],
   "source": [
    "#Kirjoita koodi tänne."
   ]
  },
  {
   "cell_type": "markdown",
   "metadata": {},
   "source": [
    "=================================================================================================================="
   ]
  },
  {
   "cell_type": "markdown",
   "metadata": {},
   "source": [
    "## Totuusarvot"
   ]
  },
  {
   "cell_type": "markdown",
   "metadata": {},
   "source": [
    "Loppupeleissä ehtolause on joko tosi tai epätosi. \n",
    "\n",
    "Pythonin totuusarvot ovat seuraavat:\n",
    "\n",
    "    Tosi              True tai luku joka ei ole nolla.\n",
    "    Epätosi           False tai 0"
   ]
  },
  {
   "cell_type": "code",
   "execution_count": 5,
   "metadata": {
    "scrolled": false
   },
   "outputs": [
    {
     "name": "stdout",
     "output_type": "stream",
     "text": [
      "Ehto 1 tosi!\n",
      "Ehto 2 tosi!\n",
      "If-ehto 3 epätosi\n"
     ]
    }
   ],
   "source": [
    "#Seuraavassa ohjelmassa havainnollistetaan totuusarvoja\n",
    "\n",
    "\n",
    "#if-ehto on tosi\n",
    "if(True):\n",
    "    print(\"Ehto 1 tosi!\")\n",
    "\n",
    "# Tässäkin ehto palauttaa toden, koska\n",
    "#epätosi ==  epätosi on tosi\n",
    "if(False == False):\n",
    "    print(\"Ehto 2 tosi!\")\n",
    "    \n",
    "#Tässä ehto palauttaa epätoden, koska\n",
    "# tosi ei voi olla epätosi\n",
    "if(True == False):\n",
    "    print(\"Tosi\")\n",
    "else:\n",
    "    print(\"If-ehto 3 epätosi\")\n",
    "    \n",
    "    "
   ]
  },
  {
   "cell_type": "markdown",
   "metadata": {},
   "source": [
    "Jos ohjelmassa on kaksi ehtoa A ja B, niin ehtolauseita voidaan yhdistää käyttämällä and- ja or-operaattoreita. \n",
    "\n",
    "Alla olevassa taulukossa on listattu ehtojen totuusarvo (1 = tosi, 0 = epätosi): \n",
    "\n",
    "$$\n",
    "\\begin{array}{lcr}\n",
    "\\mbox{A} & B & \\text{A and B} & \\text{A or B}  \\\\\n",
    "\\mbox{1} & 1 & 1 & 1 \\\\\n",
    "\\mbox{1} & 0 & 0& 1 \\\\\n",
    "\\mbox{0} & 1 & 0& 1 \\\\\n",
    "\\mbox{0} & 0 & 0& 0 \\\\\n",
    " \\end{array}  \n",
    "$$ \n",
    "\n",
    "\n",
    "\n"
   ]
  },
  {
   "cell_type": "code",
   "execution_count": 2,
   "metadata": {},
   "outputs": [
    {
     "name": "stdout",
     "output_type": "stream",
     "text": [
      "Luku täyttää ehdot.\n"
     ]
    }
   ],
   "source": [
    "#Havainnollistetaan totuustaulukkoa esimerkillä\n",
    "#Alustetaan luku\n",
    "luku = 1\n",
    "\n",
    "#Nyt ehto A on, että luku on pienempi kuin kaksi eli A = luku < 2\n",
    "#Ehto B on, että luku on suurepi kuin nolla eli B = luku > 0\n",
    "if(luku < 2 and luku >0):\n",
    "    print(\"Luku täyttää ehdot.\")\n"
   ]
  },
  {
   "cell_type": "code",
   "execution_count": 3,
   "metadata": {},
   "outputs": [
    {
     "name": "stdout",
     "output_type": "stream",
     "text": [
      "Luku ei täytä ehtoja.\n"
     ]
    }
   ],
   "source": [
    "#Muutetaan lukua\n",
    "luku = 3\n",
    "\n",
    "#Nyt ehto A on, että luku on pienempi kuin kaksi.\n",
    "#Ehto B on, että luku on suurepi kuin nolla.\n",
    "if(luku < 2 and luku >0):\n",
    "    print(\"Luku täyttää ehdot\")\n",
    "else:\n",
    "    print(\"Luku ei täytä ehtoja.\")\n"
   ]
  },
  {
   "cell_type": "markdown",
   "metadata": {},
   "source": [
    "Luku täyttää ehdon B mutta ei A:ta. Molempien ehtojen tulee olla tosi, että if-ehdosta tulee tosi."
   ]
  },
  {
   "cell_type": "code",
   "execution_count": 16,
   "metadata": {},
   "outputs": [
    {
     "name": "stdout",
     "output_type": "stream",
     "text": [
      "Luku täyttää ehdot\n"
     ]
    }
   ],
   "source": [
    "#Muutetaan ehtoa and -> or\n",
    "luku = 3\n",
    "\n",
    "#Nyt ehto A on, että luku on pienempi kuin kaksi.\n",
    "#Ehto B on, että luku on suurepi kuin nolla.\n",
    "if(luku < 2 or luku >0):\n",
    "    print(\"Luku täyttää ehdot\")\n",
    "else:\n",
    "    print(\"Luku ei täytä ehtoja,\")\n"
   ]
  },
  {
   "cell_type": "markdown",
   "metadata": {},
   "source": [
    "Nyt muutettiin and-ehto or-ehtoon, joten vain toisen pitää olla tosi. Nyt kun luku on kolme, niin tämä täyttää ehdon B, joten if-ehto on tosi."
   ]
  },
  {
   "cell_type": "markdown",
   "metadata": {},
   "source": [
    "=================================================================================================================="
   ]
  },
  {
   "cell_type": "markdown",
   "metadata": {},
   "source": [
    "## Tehtävä"
   ]
  },
  {
   "cell_type": "markdown",
   "metadata": {},
   "source": [
    "Kirjoita koodi, joka\n",
    "- kysyy käyttäjältä ikää, lemmikkejä ja matkatavaran painoa.\n",
    "- jos matkatavaran paino on yli 40 kiloa, niin lipun hinta nousee viidellä eurolla.\n",
    "- jos käyttäjällä on lemmikkejä, niin lipun hinta nousee viidellä eurolla. \n",
    "\n",
    "Hinnasto:\n",
    "\n",
    "    Ikä     Hinta  \n",
    "   ----------------------------------\n",
    "    0-5      ilmainen\n",
    "  ------------------------------------   \n",
    "    6-16     10 euroa\n",
    "  ------------------------------------  \n",
    "    yli 16   15 euroa"
   ]
  },
  {
   "cell_type": "code",
   "execution_count": 4,
   "metadata": {
    "collapsed": true
   },
   "outputs": [],
   "source": [
    "#Kirjoita koodi tähän."
   ]
  },
  {
   "cell_type": "markdown",
   "metadata": {},
   "source": [
    "=================================================================================================================="
   ]
  },
  {
   "cell_type": "markdown",
   "metadata": {},
   "source": [
    "# Toistorakenteet "
   ]
  },
  {
   "cell_type": "markdown",
   "metadata": {},
   "source": [
    "## For-silmukka\n"
   ]
  },
  {
   "cell_type": "markdown",
   "metadata": {},
   "source": [
    "Toistorakenne on ohjelmointikielen rakenne, joka toistaa annettua ohjelmointikoodi niin pitkään kunnes toistehto ei enää toteudu. Toistorakenteita on mm. for- ja while-silmukat. "
   ]
  },
  {
   "cell_type": "code",
   "execution_count": 2,
   "metadata": {},
   "outputs": [
    {
     "name": "stdout",
     "output_type": "stream",
     "text": [
      "Hei 0\n",
      "Hei 1\n",
      "Hei 2\n",
      "Hei 3\n",
      "Hei 4\n",
      "Hei 5\n",
      "Hei 6\n",
      "Hei 7\n",
      "Hei 8\n",
      "Hei 9\n",
      "Toisto loppui!\n"
     ]
    }
   ],
   "source": [
    "#Seuraavassa esimerkissä tutustutaan for-silmukan toimintaan\n",
    "\n",
    "\n",
    "for x in range(0,10): #for-silmukassa alustetaan muuttuja x ja sille annetaan toistoehto.\n",
    "                       # tässä esimerkissä toistoehto on, että käydään luvut 0-9 läpi.\n",
    "                       #koodi kirjoitetaan toistorakenteen sisälle samaan tapaan kuin\n",
    "                       #if-ehtolauseessa,\n",
    "    \n",
    "    print(\"Hei\",x)     #Tulostetaan \"hei\"-merkkijono ja muuttuja x.\n",
    "    \n",
    "print(\"Toisto loppui!\") # Kun toistoehto on toteutunut, ohjelma jatkaa matkaansa.    \n"
   ]
  },
  {
   "cell_type": "markdown",
   "metadata": {},
   "source": [
    "=================================================================================================================="
   ]
  },
  {
   "cell_type": "markdown",
   "metadata": {},
   "source": [
    "# Tehtävä\n"
   ]
  },
  {
   "cell_type": "markdown",
   "metadata": {},
   "source": [
    "Tee toistorakenne joka käy summan $$\\sum_{\\text{i} = 0}^{100} i$$  \n",
    "\n",
    "läpi, ja kertoo jos  luku on parillinen tai pariton. \n",
    "\n",
    "$\\textbf{Vihje!}$ Mitä tulee jakojäännökseksi, jos parillinen luku jaetaan 2:lla? Entä jos pariton 3:lla?"
   ]
  },
  {
   "cell_type": "code",
   "execution_count": 4,
   "metadata": {
    "collapsed": true
   },
   "outputs": [],
   "source": [
    "#Kirjoita koodi tähän."
   ]
  },
  {
   "cell_type": "markdown",
   "metadata": {},
   "source": [
    "=================================================================================================================="
   ]
  },
  {
   "cell_type": "markdown",
   "metadata": {},
   "source": [
    "## While-silmukka"
   ]
  },
  {
   "cell_type": "markdown",
   "metadata": {},
   "source": [
    "While-silmukan rakenne on seuraava:\n",
    "\n",
    "    while(ehto):\n",
    "        koodi\n",
    "\n",
    "While-silmukka pyörii niin pitkään kunnes ehto on tosi. Esimerkiksi jos ehtona on: \"a < 10\", niin while-loop loppuu kun a on 10."
   ]
  },
  {
   "cell_type": "code",
   "execution_count": 9,
   "metadata": {
    "scrolled": true
   },
   "outputs": [
    {
     "name": "stdout",
     "output_type": "stream",
     "text": [
      "Luku 0 on parillinen.\n",
      "Luku 1  on pariton.\n",
      "Luku 2 on parillinen.\n",
      "Luku 3  on pariton.\n",
      "Luku 4 on parillinen.\n",
      "Luku 5  on pariton.\n",
      "Luku 6 on parillinen.\n",
      "Luku 7  on pariton.\n",
      "Luku 8 on parillinen.\n",
      "Luku 9  on pariton.\n",
      "Luku 10 on parillinen.\n",
      "Miksi viimeinen luku on 11 ?\n"
     ]
    }
   ],
   "source": [
    "#Kirjoitetaan edellinen tehävä käyttäen while-silmukkaa.\n",
    "\n",
    "#alustetaan ehto, alkaa nollasta\n",
    "maxNumber = 11\n",
    "#alustetaan muuttuja\n",
    "x = 0\n",
    "while(x < maxNumber):\n",
    "    #Ehto parillisuudelle, jakojäännös tulee olla nolla.\n",
    "    if(x % 2 == 0):\n",
    "        print(\"Luku\", x ,\"on parillinen.\")\n",
    "    #Jos luku ei ole parillinen, sen on oltava pariton.\n",
    "    else:\n",
    "        print(\"Luku\", x, \" on pariton.\")\n",
    "   #Lisätään muuttuja x:ään +1\n",
    "    x = x + 1\n",
    "print(\"Miksi viimeinen luku on\", x, \"?\")    \n",
    "    \n"
   ]
  },
  {
   "cell_type": "markdown",
   "metadata": {},
   "source": [
    "=================================================================================================================="
   ]
  },
  {
   "cell_type": "markdown",
   "metadata": {},
   "source": [
    "## Tehtävä"
   ]
  },
  {
   "cell_type": "markdown",
   "metadata": {},
   "source": [
    "Tee salasanan kysyjä:\n",
    "- Kysyy käyttäjältä salasanan\n",
    "- Jos salasana on oikein, tulostaa \"Salasana oikein!\"\n",
    "- Jos väärin, tulostaa \"Salasanan väärin! Yritä uudelleen.\"\n",
    "- Käyttäjällä on vain kolme yritystä, tämän jälkeen silmukka sulkeutuu.\n",
    "- Yrityskerrat voivat näkyä.\n",
    "\n",
    "Ekstra:\n",
    "- Kirjoita sama koodi käyttämällä for-silmukkaa."
   ]
  },
  {
   "cell_type": "code",
   "execution_count": 30,
   "metadata": {
    "collapsed": true
   },
   "outputs": [],
   "source": [
    "#Kirjoita koodi tähän."
   ]
  },
  {
   "cell_type": "markdown",
   "metadata": {},
   "source": [
    "=================================================================================================================="
   ]
  },
  {
   "cell_type": "markdown",
   "metadata": {},
   "source": [
    "## Lisää for-silmukkaa\n"
   ]
  },
  {
   "cell_type": "markdown",
   "metadata": {},
   "source": [
    "Pythonissa for-silmukkaa voi hyödyntää myös merkkijonon selaamisessa. "
   ]
  },
  {
   "cell_type": "code",
   "execution_count": 41,
   "metadata": {},
   "outputs": [
    {
     "name": "stdout",
     "output_type": "stream",
     "text": [
      "etsin täältä maasta palastani taivaasta jotain mihin uskoa ja mihin tukeutua jotta sitten jos oon pihalla, eikä mua kaivata niin se nyt sentään kaipaa mua\n"
     ]
    }
   ],
   "source": [
    "#Havainnollistetaan for-silmukkaa merkkijonon käymisessä\n",
    "\n",
    "#Alustetaan muuttuja (kertosäe kappaleesta: Jarkko Martikainen - Jos mulla menisi todella huonosti)\n",
    "laulunSanoja = \"etsin täältä maasta palastani taivaasta \\\n",
    "jotain mihin uskoa ja mihin tukeutua \\\n",
    "jotta sitten jos oon pihalla, eikä mua kaivata \\\n",
    "niin se nyt sentään kaipaa mua\"\n",
    "#Huom! Pitkän merkkijonon voi kirjoittaa joko kokonaan samalla riville tai voin jakaa sitä \"\\\"-merkeillä\n",
    "\n",
    "#Tulostetaan laulu\n",
    "print(laulunSanoja)\n",
    "\n",
    "\n",
    "\n",
    "\n",
    "\n",
    "\n"
   ]
  },
  {
   "cell_type": "code",
   "execution_count": 42,
   "metadata": {},
   "outputs": [
    {
     "name": "stdout",
     "output_type": "stream",
     "text": [
      "etsin täältä maasta palastani taivaasta\n",
      " jotain mihin uskoa ja mihin tukeutua\n",
      " jotta sitten jos oon pihalla, eikä mua kaivata\n",
      " niin se nyt sentään kaipaa mua\n"
     ]
    }
   ],
   "source": [
    "#Pitkää merkkijonoa voi muokata komennoilla \\n (uusi rivi), \\t (tab eli viisi välilyönti)\n",
    "laulunSanoja = \"etsin täältä maasta palastani taivaasta\\n \\\n",
    "jotain mihin uskoa ja mihin tukeutua\\n \\\n",
    "jotta sitten jos oon pihalla, eikä mua kaivata\\n \\\n",
    "niin se nyt sentään kaipaa mua\"\n",
    "\n",
    "\n",
    "#kuinka monesti merkki/merkkijono tulostetaan.\n",
    "#Tulostetaan muokattu merkkijono\n",
    "print(laulunSanoja)"
   ]
  },
  {
   "cell_type": "code",
   "execution_count": 43,
   "metadata": {},
   "outputs": [
    {
     "name": "stdout",
     "output_type": "stream",
     "text": [
      "etsin täältä maasta palastani taivaasta\n",
      " jotain mihin uskoa ja mihin tukeutua\n",
      " jotta sitten jos oon pihalla, eikä mua kaivata\n",
      " niin se nyt sentään kaipaa mua"
     ]
    }
   ],
   "source": [
    "\n",
    "\n",
    "#Laitetaan laulun kertosäe for-silmukkaan\n",
    "\n",
    "for merkki in laulunSanoja:\n",
    "    print(merkki, end=\"\")\n"
   ]
  },
  {
   "cell_type": "markdown",
   "metadata": {},
   "source": [
    "=================================================================================================================="
   ]
  },
  {
   "cell_type": "markdown",
   "metadata": {},
   "source": [
    "## Tehtäviä"
   ]
  },
  {
   "cell_type": "markdown",
   "metadata": {},
   "source": [
    "Kokeile mitä tapahtuu kun korvaat \\n $\\rightarrow$ \\t.\n",
    "\n",
    "Muokkaa yllä olevaa for-silmukkaa siten, että\n",
    "- laulun sanat tulostuu ensimmäiseen pilkkuun asti,\n",
    "- vain ensimmäisen pilkun jälkeiset laulun sanat tulostuvat."
   ]
  },
  {
   "cell_type": "markdown",
   "metadata": {},
   "source": [
    "=================================================================================================================="
   ]
  },
  {
   "cell_type": "markdown",
   "metadata": {},
   "source": [
    "# Taulukot"
   ]
  },
  {
   "cell_type": "markdown",
   "metadata": {},
   "source": [
    "Taulukot (arrays) ovat muistivarastoja, jotka voivat varastoida enemmän kuin yhden verran arvon kerrallaan."
   ]
  },
  {
   "cell_type": "code",
   "execution_count": 7,
   "metadata": {},
   "outputs": [
    {
     "name": "stdout",
     "output_type": "stream",
     "text": [
      "Taulukon ensimmäinen elementti: Ford\n"
     ]
    }
   ],
   "source": [
    "#Alustetaan taulukko\n",
    "autoMerkit = [\"Ford\",\"Mustang\", \"Maserati\"]\n",
    "#Tulostetaan taulukon ensimmäinen elementti.\n",
    "print(\"Taulukon ensimmäinen elementti:\", autoMerkit[0])\n",
    "#Huomioitavaa, että taulukon numerointi lähtee nollasta!!!\n",
    "\n",
    "#Yllä oleva alustus muuttujilla olisi seuraava:\n",
    "auto1 = \"Ford\"\n",
    "auto2 = \"Mustang\"\n",
    "auto3 = \"Maserati\""
   ]
  },
  {
   "cell_type": "code",
   "execution_count": 9,
   "metadata": {},
   "outputs": [
    {
     "name": "stdout",
     "output_type": "stream",
     "text": [
      "Taulukon pituus on 3\n"
     ]
    }
   ],
   "source": [
    "#Taulukon pituus saadaan len()-funktiolla\n",
    "print(\"Taulukon pituus on\",len(autoMerkit))"
   ]
  },
  {
   "cell_type": "code",
   "execution_count": 11,
   "metadata": {
    "scrolled": true
   },
   "outputs": [
    {
     "name": "stdout",
     "output_type": "stream",
     "text": [
      "Unelma autoni on  Maserati\n"
     ]
    }
   ],
   "source": [
    "#Taulukosta voidaan myös alustaa muita muuttjia seuraavasti\n",
    "unelmaAuto = autoMerkit[2]\n",
    "print(\"Unelma autoni on \",unelmaAuto)"
   ]
  },
  {
   "cell_type": "code",
   "execution_count": 13,
   "metadata": {},
   "outputs": [
    {
     "name": "stdout",
     "output_type": "stream",
     "text": [
      "Ford\n",
      "Mustang\n",
      "Maserati\n"
     ]
    }
   ],
   "source": [
    "#For-silmukkaa voidaan käyttää taulukon esim. tulostukseen\n",
    "for auto in autoMerkit:\n",
    "    print(auto)"
   ]
  },
  {
   "cell_type": "code",
   "execution_count": 15,
   "metadata": {},
   "outputs": [
    {
     "name": "stdout",
     "output_type": "stream",
     "text": [
      "['Ford', 'Mustang', 'Maserati']\n"
     ]
    }
   ],
   "source": [
    "#Tai vastaavasti koko taulukon voi tulostaa kerralla\n",
    "print(autoMerkit)"
   ]
  },
  {
   "cell_type": "code",
   "execution_count": 16,
   "metadata": {},
   "outputs": [
    {
     "name": "stdout",
     "output_type": "stream",
     "text": [
      "Ford\n",
      "Mustang\n",
      "Maserati\n",
      "Dodge\n"
     ]
    }
   ],
   "source": [
    "#Taulukkoon voidaan lisätä uusi elementti append-komennolla\n",
    "#Huomioi piste\n",
    "autoMerkit.append(\"Dodge\")\n",
    "\n",
    "for auto in autoMerkit:\n",
    "    print(auto)\n",
    "\n"
   ]
  },
  {
   "cell_type": "code",
   "execution_count": 17,
   "metadata": {},
   "outputs": [
    {
     "name": "stdout",
     "output_type": "stream",
     "text": [
      "['Ford', 'Mustang', 'Dodge']\n"
     ]
    }
   ],
   "source": [
    "#Taulukon elementin poistaminen tapahtuu taas pop-komennolla\n",
    "#Poistetaan kolmas elementti. Muista, että numerointi lähtee nollasta!!!\n",
    "autoMerkit.pop(2)\n",
    "print(autoMerkit)"
   ]
  },
  {
   "cell_type": "code",
   "execution_count": 19,
   "metadata": {},
   "outputs": [
    {
     "name": "stdout",
     "output_type": "stream",
     "text": [
      "['Mustang', 'Dodge']\n"
     ]
    }
   ],
   "source": [
    "#Tai voidaan poistaa myös nimellä suoraan remove-komennolla\n",
    "autoMerkit.remove(\"Ford\")\n",
    "\n",
    "print(autoMerkit)"
   ]
  },
  {
   "cell_type": "markdown",
   "metadata": {},
   "source": [
    "=================================================================================================================="
   ]
  },
  {
   "cell_type": "markdown",
   "metadata": {},
   "source": [
    "## Tehtäviä"
   ]
  },
  {
   "cell_type": "markdown",
   "metadata": {},
   "source": [
    "- Tee taulukko jossa on sata ensimmäistä kokonaislukua.  Tämän jälkeen suodata taulukko siten, että sinne jää vain viidellä jaolliset luvut. Huom! Vaaditaan kaksi erillistä silmukkaa.\n",
    "- Tee edellinen tehtävä käyttämällä vain yhtä silmukkaa.\n",
    "- Tee taulukko jossa on nimiä siten, että ainakin yksi nimi alkaa A-kirjaimella. Tämän jälkeen suodata taulukkoa siten, että vain A-kirjaimella alkavat nimet jäävät sinne.\n",
    "\n",
    "$\\textbf{Vihje!}$ Myös merkkijonot toimii samalla tavalla kuin taulukot. Esim. nimi = \"Matilda\", niin ensimmäisen kirjaimen saa ulos nimi[0]."
   ]
  },
  {
   "cell_type": "code",
   "execution_count": 20,
   "metadata": {
    "collapsed": true
   },
   "outputs": [],
   "source": [
    "#Kirjoita koodi tänne"
   ]
  },
  {
   "cell_type": "markdown",
   "metadata": {},
   "source": [
    "=================================================================================================================="
   ]
  },
  {
   "cell_type": "markdown",
   "metadata": {},
   "source": [
    "# Funktio"
   ]
  },
  {
   "cell_type": "markdown",
   "metadata": {},
   "source": [
    "Kun ohjelmaa kirjoitetaan, se voidaan kirjoittaa kaikki pötköön. Kuitenkin, jotta koodi olisi selvästi luettavaa on sitä hyvä jäsennellä. Tähän tarkoitukseen funktiot ovat oivallinen apuväline.\n",
    "\n",
    "Funktio on pala koodia, joka ajetaan vain silloin kun se kutsutaan. Funktio voi ottaa sisäänsä dataa (parametrejä), ja funktio voi palauttaa dataa. Vrt. yläkoulumatematiikassa puhutusta \"funktiokoneesta\". Havainnollistetaan tätä esimerkein siten, että kirjoitetaan samanlainen koodinpätkä ilman funktiota ja funktion kanssa."
   ]
  },
  {
   "cell_type": "code",
   "execution_count": 2,
   "metadata": {},
   "outputs": [
    {
     "name": "stdout",
     "output_type": "stream",
     "text": [
      "Anna luku 1:1\n",
      "Anna luku 2:2\n",
      "Lukujen summa on 3.0\n"
     ]
    }
   ],
   "source": [
    "#Tehdään yksinkertainen koodi, joka laskee kahden luvun summan.\n",
    "\n",
    "#Alustetaan luvut\n",
    "luku1 = 0\n",
    "luku2 = 0\n",
    "\n",
    "#Kysytään käyttäjältä luvut\n",
    "luku1 = float(input(\"Anna luku 1:\"))\n",
    "luku2 = float(input(\"Anna luku 2:\"))\n",
    "print(\"Lukujen summa on\", luku1 + luku2)\n"
   ]
  },
  {
   "cell_type": "code",
   "execution_count": 5,
   "metadata": {},
   "outputs": [
    {
     "name": "stdout",
     "output_type": "stream",
     "text": [
      "Anna luku: 1\n",
      "Anna luku: 43\n",
      "Lukujen summa on 44.0\n"
     ]
    }
   ],
   "source": [
    "#Kirjoitetaan sama koodi käyttämällä funktiota\n",
    "\n",
    "\n",
    "\n",
    "#Funktion syntaksi on\n",
    "#def funktionNimi(parametrit):\n",
    "#    Mitä funktio tekee tänne\n",
    "\n",
    "#Määritellään funktio, joka kysyy käyttäjältä luvun\n",
    "def luvunKysyja():\n",
    "    luku = float(input(\"Anna luku: \"))\n",
    "    return luku\n",
    "\n",
    "\n",
    "#Määritellään funktio summa(), joka ottaa parametrit\n",
    "#a ja b:n\n",
    "#return komennolla funktio palauttaa arvon, ei pakollinen\n",
    "def summa( a,  b):\n",
    "    return a+b\n",
    "\n",
    "\n",
    "\n",
    "\n",
    "#Kysytään luvut\n",
    "luku1 = luvunKysyja()\n",
    "luku2 = luvunKysyja()\n",
    "\n",
    "#Tulostetaan lukujen summa\n",
    "print(\"Lukujen summa on\", summa(luku1,luku2))    "
   ]
  },
  {
   "cell_type": "markdown",
   "metadata": {},
   "source": [
    "Huom! Vaikka tuntuisi, että koodi ilman funktiota on selkeämpi, niin mitä pitempi koodi on, sitä helpompi sitä on muokata jos sen on tehnyt hyödyntäen funktiota."
   ]
  },
  {
   "cell_type": "markdown",
   "metadata": {},
   "source": [
    "=================================================================================================================="
   ]
  },
  {
   "cell_type": "markdown",
   "metadata": {},
   "source": [
    "## Tehtäviä\n"
   ]
  },
  {
   "cell_type": "markdown",
   "metadata": {},
   "source": [
    "- Tee laskin, joka kysyy käyttäjältä kaksi lukua, ja operaattoria jonka käyttäjä haluaa suorittaa.\n",
    "- Kirjoita funktio, joka ottaa parametrinä merkkijonon ja kääntää sen takaperin. Eli abc --> cba.\n",
    "- Kirjoita funktio, joka ottaa parametrinä taulukon ja palauttaa parilliset luvut taulukosta.\n",
    "   Esim. taulukko = [2,3,4,5,5,6,7,8,9], niin funktio palauttaa [2,4,6,8].\n",
    "- Kirjoita funktio, joka ottaa vastaan taulukon ja palauttaa taulukon jossa on vain erilaisia numeroita.\n",
    "    Esim. taulukko = [1,1,2,3,4,4,5,5,5], niin funktio palauttaa [1,2,3,4,5]\n",
    "- Kirjoita funktio, joka ottaa vastaan ajan tunteina ja muuttaa sen sekunneiksi.\n",
    "- Kirjoita funktio, joka ottaa vastaan listan, jossa on luvut 2000-3000, ja tulostaa listasta luvut, jotka ovat jaollisia seitsemällä, mutta eivät ole viiden kerrannaisia.\n",
    "- Kirjoita funktio, joka palauttaa luvun kertoman. Esim. 4! = $4 * 3*2*1$ = 24.\n",
    "- Kertomaa n! voidaan approksimoida Stirlingin kaavalla $n! \\approx (\\frac{n}{e})^n \\sqrt{2 \\pi n}$, jossa e on neperin luku. Tee funktio, joka approksimoi kertomaa käyttäen Stirlingin kaavaa ja tarkastale eri n:n arvoilla kuinka paljon Stirlingin kaava eroaa tavan kertomasta."
   ]
  },
  {
   "cell_type": "code",
   "execution_count": 5,
   "metadata": {
    "collapsed": true
   },
   "outputs": [],
   "source": [
    "#Lisätään kirjasto math, täältä saadaan mm. math.e (neperin luku) \n",
    "#math.sqrt() (neliöjuuri). Näitä vaaditaan Stirling tehtävässä.\n",
    "import math\n",
    "#Kirjoita koodi tänne\n",
    "\n",
    "\n"
   ]
  },
  {
   "cell_type": "markdown",
   "metadata": {},
   "source": [
    "=================================================================================================================="
   ]
  }
 ],
 "metadata": {
  "kernelspec": {
   "display_name": "Python 3",
   "language": "python",
   "name": "python3"
  },
  "language_info": {
   "codemirror_mode": {
    "name": "ipython",
    "version": 3
   },
   "file_extension": ".py",
   "mimetype": "text/x-python",
   "name": "python",
   "nbconvert_exporter": "python",
   "pygments_lexer": "ipython3",
   "version": "3.6.1"
  }
 },
 "nbformat": 4,
 "nbformat_minor": 2
}
