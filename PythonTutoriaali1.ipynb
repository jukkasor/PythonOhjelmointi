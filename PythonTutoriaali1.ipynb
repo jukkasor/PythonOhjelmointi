{
 "cells": [
  {
   "cell_type": "markdown",
   "metadata": {},
   "source": [
    "# Opas python-ohjelmointiin\n",
    "\n",
    " $\n",
    "-jos\n",
    " $\n"
   ]
  },
  {
   "cell_type": "markdown",
   "metadata": {},
   "source": [
    "Tämän oppaan on tarkoitus toimia yksinkertaisena johdatuksena python-ohjelmointiin. Python-ohjelmointi toimii \n",
    "hyvin sekä yläkouluun kuin lukiolaisille. \n",
    "\n",
    "Pythonin hyödyt:\n",
    "\n",
    "- helppo syntaksi\n",
    "\n",
    "- paljon kirjastoja\n",
    "\n",
    "- pystyy tekemään melkein mitä tahansa"
   ]
  },
  {
   "cell_type": "markdown",
   "metadata": {},
   "source": [
    "Perussanastoa:\n",
    "\n",
    "Syntaksi (syntax) = \"kielioppi\"\n",
    "\n",
    "Kääntäjä (compiler) = kääntää koodin konekieleksi (= kieli jota kone ymmärtää)\n",
    "\n",
    "Kirjasto (library) = sisältää valmiiksi tehtyjä funktiota (helpottavat ohjelman työstöä).\n",
    "\n",
    "Muuttuja = symbolinen tietovarasto\n",
    "\n"
   ]
  },
  {
   "cell_type": "code",
   "execution_count": 26,
   "metadata": {
    "scrolled": true
   },
   "outputs": [
    {
     "name": "stdout",
     "output_type": "stream",
     "text": [
      "Hello world\n"
     ]
    }
   ],
   "source": [
    "# <--- Hashtag, risuaita\n",
    "# Risuaidalla voidaan kommentoida rivi eikä kyseinen rivi tule koodiin\n",
    "# HUOM! Äärimmäisen tärkeää, että kommentoi koodia (toisen helpompi lukea)\n",
    "#Painamalla Ctrl + Enter notebook ajaa koodin\n",
    "\n",
    "#Ensimmäinen ohjelma\n",
    "#Kutsutaan funktio \"print\", joka tulostaa merkkijonon joka on sulkujen sisällä.\n",
    "print(\"Hello world\")\n"
   ]
  },
  {
   "cell_type": "markdown",
   "metadata": {},
   "source": [
    "=================================================================================================================="
   ]
  },
  {
   "cell_type": "markdown",
   "metadata": {},
   "source": [
    "## Tehtäviä\n"
   ]
  },
  {
   "cell_type": "markdown",
   "metadata": {},
   "source": [
    "Muuta edellistä koodia siten, että:\n",
    "\n",
    "a) saat virheilmoituksen.\n",
    "\n",
    "b) tulostat \"Hello world\":in kolmelle eri riville.\n"
   ]
  },
  {
   "cell_type": "markdown",
   "metadata": {},
   "source": [
    "=================================================================================================================="
   ]
  },
  {
   "cell_type": "markdown",
   "metadata": {},
   "source": [
    "# Tietotyypit"
   ]
  },
  {
   "cell_type": "markdown",
   "metadata": {},
   "source": [
    "Yllä olevassa ohjelmassa tulostettiin merkkijono. Ohjelmoinnissa on erilaisia tietotyyppejä ja python kielessä ne jaetaan seuraaviin (suluissa olevia käytetään koodissa, jos tarvetta):\n",
    "\n",
    "    integer (int) = kokonaisluvut\n",
    "\n",
    "    string (str) = merkkijono\n",
    "\n",
    "    character (char) = yksittäinen merkki\n",
    "\n",
    "    float (float)  =  desimaaliluku\n",
    "\n",
    "Pythonin syntaksissa ei ole tarvetta alustaa muuttujia tietyiksi muistityypeiksi, muissa kielissä (esim. C-kielet) tämä vaaditaan. Tosin muuttujia voidaan muuttaa toisiksi muistityypeiksi.\n",
    "\n"
   ]
  },
  {
   "cell_type": "code",
   "execution_count": 24,
   "metadata": {},
   "outputs": [
    {
     "name": "stdout",
     "output_type": "stream",
     "text": [
      "x on <class 'int'>\n",
      "y on <class 'str'>\n"
     ]
    }
   ],
   "source": [
    "#Muutetaan muuttujien muistityyppejä\n",
    "\n",
    "#Alustetaan muuttuja luku\n",
    "x = 523\n",
    "#Muutetaan luvusta merkkijonoksi\n",
    "y = str(x)\n",
    "\n",
    "#type-funktionlla voidaan tarkistaa mitä tyyppiä muuttujat ovat.\n",
    "print(\"x on\", type(x))\n",
    "print(\"y on\",type(y))"
   ]
  },
  {
   "cell_type": "code",
   "execution_count": 1,
   "metadata": {},
   "outputs": [
    {
     "name": "stdout",
     "output_type": "stream",
     "text": [
      "Yhteenlasku: 7\n",
      "Vähennyslasku: 3\n",
      "Kertolasku: 10\n",
      "Jakolasku: 2.5\n",
      "Potenssi: 25\n"
     ]
    }
   ],
   "source": [
    "#Seuraavassa demossa demonstroidaan datatyyppejä sekä matemaattisia operaattoreita.\n",
    "\n",
    "#Luodaan muuttujat x ja y annetaan niille arvot\n",
    "x = 5\n",
    "y = 2\n",
    "\n",
    "#Huom! x ja y:n tulee alkaa samalta riviltä, pythonin syntaksi vaatii, muuten tulee virhe.\n",
    "#Voit kokeilla mitä tapahtuu, kun laitat välilyönnin muuttuja y eteen.\n",
    "\n",
    "#Olkoon muuttuja c x:n ja y:n summa eli\n",
    "c = x + y\n",
    "#Tulostetaan c\n",
    "print(\"Yhteenlasku:\",c)\n",
    "#Määritetään muuttuja c uudestaan ensiksi vähennys-, kerto-, jako- ja lopuksi vielä potenssilasku.\n",
    "c = x-y\n",
    "print(\"Vähennyslasku:\",c)\n",
    "\n",
    "#Huom! print-funktiossa voit pilkulla erottaa muuttujia toisistaan.\n",
    "\n",
    "c = x*y\n",
    "print(\"Kertolasku:\",c)\n",
    "\n",
    "c = x/y\n",
    "print(\"Jakolasku:\",c)\n",
    "\n",
    "#Kantalukuna on x, ja potenssina on y\n",
    "c = x**y\n",
    "print(\"Potenssi:\", c)\n"
   ]
  },
  {
   "cell_type": "markdown",
   "metadata": {},
   "source": [
    "=================================================================================================================="
   ]
  },
  {
   "cell_type": "markdown",
   "metadata": {},
   "source": [
    "## Tehtäviä\n"
   ]
  },
  {
   "cell_type": "markdown",
   "metadata": {},
   "source": [
    "Muuttumalla vain x:n ja y:n arvoja, ohjelman tulisi tulostaa:\n",
    "\n",
    "a) kerto- ja jakolaskusta tulisi nolla\n",
    "\n",
    "b) Saada virheilmoitus \"ZeroDivisionError\"\n",
    "\n",
    "c) Muuta muuttujan y:n arvoa siten, että yhteenlaskusta tulisi positiivinen ja vähennyslaskusta negatiivinen luku.\n",
    "\n",
    "d) Kokeile miten suuren luvun saat aikaiseksi potenssi laskusta muuttamalla y:n ja x:n arvoja. Miten käy laskenta-ajalle?"
   ]
  },
  {
   "cell_type": "markdown",
   "metadata": {},
   "source": [
    "=================================================================================================================="
   ]
  },
  {
   "cell_type": "markdown",
   "metadata": {},
   "source": [
    "# Ehtolauseet "
   ]
  },
  {
   "cell_type": "markdown",
   "metadata": {},
   "source": [
    "Ehtolauseilla voidaan antaa ohjelmalle ehtoja ja tekemään mitä halutaan. Käydään ehtolauseet läpi esimerkein.\n",
    "Matemaattiset ehdot python-syntaksissa:\n",
    "\n",
    " \\begin{array}{lcr}\n",
    "\\mbox{Suurempi kuin} & a < b   \\\\\n",
    "\\mbox{Pienempi kuin} & a > b  \\\\\n",
    "\\mbox{Suurempi tai yhtäsuuri} & a =< b  \\\\\n",
    "\\mbox{Pienempi tai yhtäsuuri} & a => b  \\\\\n",
    "\\mbox{Yhtäsuuri kuin} & a == b \\\\\n",
    "\\mbox{Jakojäännös} & \\text{a } \\% \\text{ b} \\\\\n",
    " \\end{array}  \n",
    "\n",
    "Huom! a = b ja a == b ei ole sama asia. Tapauksessa \"a=b\" a:sta tulee b, kun taas tapausessa \"a == b\" a:ta verrataan b:hen. Jos muuttujat on samat, ehto palauttaa toden.\n",
    "\n",
    "if-ehto toimii siten, että jos ehto on tosi niin silloin mennään if-ehdon sisälle muussa tapauksessa jatketaan eteenpäin.\n"
   ]
  },
  {
   "cell_type": "code",
   "execution_count": null,
   "metadata": {
    "collapsed": true
   },
   "outputs": [],
   "source": [
    "#IF-ehto\n",
    "\n",
    "#Yksinkertainen koodi jossa kysytään laukun massa ja hylätään liian suuri laukku.\n",
    "#input-funktiolla voidaan syöttää komentoriville arvo, joka tässä tapauksessa menee muuttujan \"laukunMassa\" arvoksi.\n",
    "#float-funktio input-funktion ulkopuolella muuttaa muuttujan arvon merkkijonosta numeroksi.\n",
    "laukunMassa = float(input(\"Anna laukun massa:\"))\n",
    "\n",
    "#Ehtolause\n",
    "#Jos laukun massa on yli 50 kg, niin hylätään. Muussa tapauksessa toivotetaan hyvää matkaa.\n",
    "\n",
    "if(laukunMassa > 50):\n",
    "    print(\"Laukku on liian painava.\")\n",
    "else:\n",
    "    print(\"Hyvää matkaa!\")\n",
    "#Huomaa if-lauseen syntaksi. if(ehto): ja tämän jälkeen jos ehto on tosi, niin tarvittava koodi ei saa alkaa \n",
    "#samalta riviltä!!!!\n",
    "\n"
   ]
  },
  {
   "cell_type": "markdown",
   "metadata": {},
   "source": [
    "=================================================================================================================="
   ]
  },
  {
   "cell_type": "markdown",
   "metadata": {},
   "source": [
    "## Tehtävä"
   ]
  },
  {
   "cell_type": "markdown",
   "metadata": {},
   "source": [
    "Tee ohjelma joka kysyy käyttäjältä ikää ja sen jälkeen antaa lipun hinnan. Lippujen hinnat ovat seuraavat:\n",
    "\n",
    "    Ikä     Hinta  \n",
    "   ----------------------------------\n",
    "    0-5      ilmainen\n",
    "  ------------------------------------   \n",
    "    6-16     10 euroa\n",
    "  ------------------------------------  \n",
    "    yli 16   15 euroa"
   ]
  },
  {
   "cell_type": "code",
   "execution_count": 1,
   "metadata": {
    "collapsed": true
   },
   "outputs": [],
   "source": [
    "#Kirjoita koodi tänne."
   ]
  },
  {
   "cell_type": "markdown",
   "metadata": {},
   "source": [
    "=================================================================================================================="
   ]
  },
  {
   "cell_type": "markdown",
   "metadata": {},
   "source": [
    "## Totuusarvot"
   ]
  },
  {
   "cell_type": "markdown",
   "metadata": {},
   "source": [
    "Loppupeleissä ehtolause on joko tosi tai epätosi. \n",
    "\n",
    "Pythonin totuusarvot ovat seuraavat:\n",
    "\n",
    "    Tosi              True tai luku joka ei ole nolla.\n",
    "    Epätosi           False tai 0"
   ]
  },
  {
   "cell_type": "code",
   "execution_count": 8,
   "metadata": {},
   "outputs": [
    {
     "name": "stdout",
     "output_type": "stream",
     "text": [
      "Ehto 1 tosi!\n",
      "Ehto 2 tosi!\n",
      "If-ehto 3 epätosi\n"
     ]
    }
   ],
   "source": [
    "#Seuraavassa ohjelmassa havainnollistetaan totuusarvoja\n",
    "\n",
    "if(True):\n",
    "    print(\"Ehto 1 tosi!\")\n",
    "\n",
    "if(False == False):\n",
    "    print(\"Ehto 2 tosi!\")\n",
    "    \n",
    "if(True == False):\n",
    "    print(\"Tosi\")\n",
    "else:\n",
    "    print(\"If-ehto 3 epätosi\")\n",
    "    \n",
    "    "
   ]
  },
  {
   "cell_type": "markdown",
   "metadata": {},
   "source": [
    "# Toistorakenteet "
   ]
  },
  {
   "cell_type": "markdown",
   "metadata": {},
   "source": [
    "## For-silmukka\n"
   ]
  },
  {
   "cell_type": "markdown",
   "metadata": {},
   "source": [
    "Toistorakenne on ohjelmointikielen rakenne, joka toistaa annettua ohjelmointikoodi niin pitkään kunnes toistehto ei enää toteudu. Toistorakenteita on mm. for- ja while-silmukat. "
   ]
  },
  {
   "cell_type": "code",
   "execution_count": 2,
   "metadata": {},
   "outputs": [
    {
     "name": "stdout",
     "output_type": "stream",
     "text": [
      "Hei 0\n",
      "Hei 1\n",
      "Hei 2\n",
      "Hei 3\n",
      "Hei 4\n",
      "Hei 5\n",
      "Hei 6\n",
      "Hei 7\n",
      "Hei 8\n",
      "Hei 9\n",
      "Toisto loppui!\n"
     ]
    }
   ],
   "source": [
    "#Seuraavassa esimerkissä tutustutaan for-silmukan toimintaan\n",
    "\n",
    "\n",
    "for x in range(0,10): #for-silmukassa alustetaan muuttuja x ja sille annetaan toistoehto.\n",
    "                       # tässä esimerkissä toistoehto on, että käydään luvut 0-9 läpi.\n",
    "                       #koodi kirjoitetaan toistorakenteen sisälle samaan tapaan kuin\n",
    "                       #if-ehtolauseessa,\n",
    "    \n",
    "    print(\"Hei\",x)     #Tulostetaan \"hei\"-merkkijono ja muuttuja x.\n",
    "    \n",
    "print(\"Toisto loppui!\") # Kun toistoehto on toteutunut, ohjelma jatkaa matkaansa.    \n"
   ]
  },
  {
   "cell_type": "markdown",
   "metadata": {},
   "source": [
    "=================================================================================================================="
   ]
  },
  {
   "cell_type": "markdown",
   "metadata": {},
   "source": [
    "# Tehtävä\n"
   ]
  },
  {
   "cell_type": "markdown",
   "metadata": {},
   "source": [
    "Tee toistorakenne joka käy summan $$\\sum_{\\text{i} = 0}^{100} i$$  \n",
    "\n",
    "läpi, ja kertoo jos  luku on parillinen tai pariton."
   ]
  },
  {
   "cell_type": "code",
   "execution_count": 4,
   "metadata": {
    "collapsed": true
   },
   "outputs": [],
   "source": [
    "#Kirjoita koodi tähän."
   ]
  },
  {
   "cell_type": "markdown",
   "metadata": {},
   "source": [
    "=================================================================================================================="
   ]
  },
  {
   "cell_type": "markdown",
   "metadata": {},
   "source": [
    "## While-silmukka"
   ]
  },
  {
   "cell_type": "markdown",
   "metadata": {},
   "source": [
    "While-silmukan rakenne on seuraava:\n",
    "\n",
    "    while(ehto):\n",
    "        koodi\n",
    "\n",
    "While-silmukka pyörii niin pitkään kunnes ehto on tosi. Esimerkiksi jos ehtona on: \"a < 10\", niin while-loop loppuu kun a on 10."
   ]
  },
  {
   "cell_type": "code",
   "execution_count": 9,
   "metadata": {
    "scrolled": true
   },
   "outputs": [
    {
     "name": "stdout",
     "output_type": "stream",
     "text": [
      "Luku 0 on parillinen.\n",
      "Luku 1  on pariton.\n",
      "Luku 2 on parillinen.\n",
      "Luku 3  on pariton.\n",
      "Luku 4 on parillinen.\n",
      "Luku 5  on pariton.\n",
      "Luku 6 on parillinen.\n",
      "Luku 7  on pariton.\n",
      "Luku 8 on parillinen.\n",
      "Luku 9  on pariton.\n",
      "Luku 10 on parillinen.\n",
      "Miksi viimeinen luku on 11 ?\n"
     ]
    }
   ],
   "source": [
    "#Kirjoitetaan edellinen tehävä käyttäen while-silmukkaa.\n",
    "\n",
    "#alustetaan ehto, alkaa nollasta\n",
    "maxNumber = 11\n",
    "#alustetaan muuttuja\n",
    "x = 0\n",
    "while(x < maxNumber):\n",
    "    #Ehto parillisuudelle, jakojäännös tulee olla nolla.\n",
    "    if(x % 2 == 0):\n",
    "        print(\"Luku\", x ,\"on parillinen.\")\n",
    "    #Jos luku ei ole parillinen, sen on oltava pariton.\n",
    "    else:\n",
    "        print(\"Luku\", x, \" on pariton.\")\n",
    "   #Lisätään muuttuja x:ään +1\n",
    "    x = x + 1\n",
    "print(\"Miksi viimeinen luku on\", x, \"?\")    \n",
    "    \n"
   ]
  },
  {
   "cell_type": "markdown",
   "metadata": {},
   "source": [
    "=================================================================================================================="
   ]
  },
  {
   "cell_type": "markdown",
   "metadata": {},
   "source": [
    "## Tehtävä"
   ]
  },
  {
   "cell_type": "markdown",
   "metadata": {},
   "source": [
    "Tee salasanan kysyjä:\n",
    "- Kysyy käyttäjältä salasanan\n",
    "- Jos salasana on oikein, tulostaa \"Salasana oikein!\"\n",
    "- Jos väärin, tulostaa \"Salasanan väärin! Yritä uudelleen.\"\n",
    "- Käyttäjällä on vain kolme yritystä, tämän jälkeen silmukka sulkeutuu.\n",
    "- Yrityskerrat voivat näkyä.\n",
    "\n",
    "Ekstra:\n",
    "- Kirjoita sama koodi käyttämällä for-silmukkaa."
   ]
  },
  {
   "cell_type": "code",
   "execution_count": 30,
   "metadata": {
    "collapsed": true
   },
   "outputs": [],
   "source": [
    "#Kirjoita koodi tähän."
   ]
  },
  {
   "cell_type": "markdown",
   "metadata": {},
   "source": [
    "=================================================================================================================="
   ]
  },
  {
   "cell_type": "markdown",
   "metadata": {},
   "source": [
    "## Lisää for-silmukkaa\n"
   ]
  },
  {
   "cell_type": "markdown",
   "metadata": {},
   "source": [
    "Pythonissa for-silmukkaa voi hyödyntää myös merkkijonon selaamisessa. "
   ]
  },
  {
   "cell_type": "code",
   "execution_count": 41,
   "metadata": {},
   "outputs": [
    {
     "name": "stdout",
     "output_type": "stream",
     "text": [
      "etsin täältä maasta palastani taivaasta jotain mihin uskoa ja mihin tukeutua jotta sitten jos oon pihalla, eikä mua kaivata niin se nyt sentään kaipaa mua\n"
     ]
    }
   ],
   "source": [
    "#Havainnollistetaan for-silmukkaa merkkijonon käymisessä\n",
    "\n",
    "#Alustetaan muuttuja (kertosäe kappaleesta: Jarkko Martikainen - Jos mulla menisi todella huonosti)\n",
    "laulunSanoja = \"etsin täältä maasta palastani taivaasta \\\n",
    "jotain mihin uskoa ja mihin tukeutua \\\n",
    "jotta sitten jos oon pihalla, eikä mua kaivata \\\n",
    "niin se nyt sentään kaipaa mua\"\n",
    "#Huom! Pitkän merkkijonon voi kirjoittaa joko kokonaan samalla riville tai voin jakaa sitä \"\\\"-merkeillä\n",
    "\n",
    "#Tulostetaan laulu\n",
    "print(laulunSanoja)\n",
    "\n",
    "\n",
    "\n",
    "\n",
    "\n",
    "\n"
   ]
  },
  {
   "cell_type": "code",
   "execution_count": 42,
   "metadata": {},
   "outputs": [
    {
     "name": "stdout",
     "output_type": "stream",
     "text": [
      "etsin täältä maasta palastani taivaasta\n",
      " jotain mihin uskoa ja mihin tukeutua\n",
      " jotta sitten jos oon pihalla, eikä mua kaivata\n",
      " niin se nyt sentään kaipaa mua\n"
     ]
    }
   ],
   "source": [
    "#Pitkää merkkijonoa voi muokata komennoilla \\n (uusi rivi), \\t (tab eli viisi välilyönti)\n",
    "laulunSanoja = \"etsin täältä maasta palastani taivaasta\\n \\\n",
    "jotain mihin uskoa ja mihin tukeutua\\n \\\n",
    "jotta sitten jos oon pihalla, eikä mua kaivata\\n \\\n",
    "niin se nyt sentään kaipaa mua\"\n",
    "\n",
    "\n",
    "#kuinka monesti merkki/merkkijono tulostetaan.\n",
    "#Tulostetaan muokattu merkkijono\n",
    "print(laulunSanoja)"
   ]
  },
  {
   "cell_type": "code",
   "execution_count": 43,
   "metadata": {},
   "outputs": [
    {
     "name": "stdout",
     "output_type": "stream",
     "text": [
      "etsin täältä maasta palastani taivaasta\n",
      " jotain mihin uskoa ja mihin tukeutua\n",
      " jotta sitten jos oon pihalla, eikä mua kaivata\n",
      " niin se nyt sentään kaipaa mua"
     ]
    }
   ],
   "source": [
    "\n",
    "\n",
    "#Laitetaan laulun kertosäe for-silmukkaan\n",
    "\n",
    "for merkki in laulunSanoja:\n",
    "    print(merkki, end=\"\")\n"
   ]
  },
  {
   "cell_type": "markdown",
   "metadata": {},
   "source": [
    "=================================================================================================================="
   ]
  },
  {
   "cell_type": "markdown",
   "metadata": {},
   "source": [
    "## Tehtäviä"
   ]
  },
  {
   "cell_type": "markdown",
   "metadata": {},
   "source": [
    "Kokeile mitä tapahtuu kun korvaat \\n $\\rightarrow$ \\t.\n",
    "\n",
    "Muokkaa yllä olevaa for-silmukkaa siten, että\n",
    "- laulun sanat tulostuu ensimmäiseen pilkkuun asti,\n",
    "- vain ensimmäisen pilkun jälkeiset laulun sanat tulostuvat."
   ]
  },
  {
   "cell_type": "markdown",
   "metadata": {},
   "source": [
    "=================================================================================================================="
   ]
  }
 ],
 "metadata": {
  "kernelspec": {
   "display_name": "Python 3",
   "language": "python",
   "name": "python3"
  },
  "language_info": {
   "codemirror_mode": {
    "name": "ipython",
    "version": 3
   },
   "file_extension": ".py",
   "mimetype": "text/x-python",
   "name": "python",
   "nbconvert_exporter": "python",
   "pygments_lexer": "ipython3",
   "version": "3.6.1"
  }
 },
 "nbformat": 4,
 "nbformat_minor": 2
}
