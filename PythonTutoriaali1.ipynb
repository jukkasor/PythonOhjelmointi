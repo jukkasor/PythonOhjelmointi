{
 "cells": [
  {
   "cell_type": "markdown",
   "metadata": {},
   "source": [
    "# Tutoriaali python-ohjelmointiin\n",
    "\n",
    " $\n",
    "-jos\n",
    " $\n"
   ]
  },
  {
   "cell_type": "markdown",
   "metadata": {},
   "source": [
    "Perussanastoa:\n",
    "\n",
    "Syntaksi (syntax) = \"kielioppi\"\n",
    "\n",
    "Kääntäjä (compiler) = kääntää koodin konekieleksi (= kieli jota kone ymmärtää)\n",
    "\n",
    "Kirjasto (library) = sisältää valmiiksi tehtyjä funktiota (helpottavat ohjelman työstöä).\n",
    "\n",
    "Muuttuja = symbolinen tietovarasto\n",
    "\n"
   ]
  },
  {
   "cell_type": "code",
   "execution_count": 8,
   "metadata": {
    "scrolled": true
   },
   "outputs": [
    {
     "name": "stdout",
     "output_type": "stream",
     "text": [
      "Hello world\n"
     ]
    }
   ],
   "source": [
    "# <--- Hashtag, risuaita\n",
    "# Risuaidalla voidaan kommentoida rivi eikä kyseinen rivi tule koodiin\n",
    "# HUOM! Äärimmäisen tärkeää, että kommentoi koodia (toisen helpompi lukea)\n",
    "#Painamalla Ctrl + Enter notebook ajaa koodin\n",
    "\n",
    "#Ensimmäinen ohjelma\n",
    "#Kutsutaan funktio \"print\", joka tulostaa merkkijonen joka on sulkujen sisällä.\n",
    "print(\"Hello world\")\n"
   ]
  },
  {
   "cell_type": "markdown",
   "metadata": {},
   "source": [
    "Muuta seuraavaa koodia siten, että:\n",
    "\n",
    "a) saat virheilmoituksen.\n",
    "\n",
    "b) tulostat \"Hello world\":in kolmelle eri riville\n"
   ]
  },
  {
   "cell_type": "markdown",
   "metadata": {},
   "source": [
    "Yllä olevassa ohjelmassa tulostettiin merkkijono. Ohjelmoinnissa on erilaisia tietotyyppejä ja python kielessä ne jaetaan seuraaviin (suluissa olevia käytetään koodissa):\n",
    "\n",
    "integer (int) = kokonaisluvut\n",
    "\n",
    "string (str) = merkkijono\n",
    "\n",
    "character (char) = yksittäinen merkki\n",
    "\n",
    "double (double) = desimaaliluvut\n",
    "\n",
    "float (float)  = tarkempi desimaaliluku\n",
    "\n",
    "Python syntaksissa ei ole tarvetta alustaa muuttujia tietyiksi muistityypeiksi, muissa kielissä (esim. C-kielet) tämä vaaditaan."
   ]
  },
  {
   "cell_type": "code",
   "execution_count": 1,
   "metadata": {},
   "outputs": [
    {
     "name": "stdout",
     "output_type": "stream",
     "text": [
      "Yhteenlasku: 7\n",
      "Vähennyslasku: 3\n",
      "Kertolasku: 10\n",
      "Jakolasku: 2.5\n",
      "Potenssi: 25\n"
     ]
    }
   ],
   "source": [
    "#Seuraavassa demossa demonstroidaan datatyyppejä\n",
    "\n",
    "#Luodaan muuttujat x ja y annetaan niille arvot\n",
    "x = 5\n",
    "y = 2\n",
    "\n",
    "#Huom! x ja y:n tulee alkaa samalta riviltä, pythonin syntaksi vaatii, muuten tulee virhe.\n",
    "#Voit kokeilla mitä tapahtuu, kun laitat välilyönnin muuttuja y eteen.\n",
    "\n",
    "#Olkoon muuttuja c x:n ja y:n summa eli\n",
    "c = x + y\n",
    "#Tulostetaan c\n",
    "print(\"Yhteenlasku:\",c)\n",
    "#Määritetään muuttuja c uudestaan ensiksi vähennys-, kerto-, jako- ja lopuksi vielä potenssilasku.\n",
    "c = x-y\n",
    "print(\"Vähennyslasku:\",c)\n",
    "\n",
    "#Huom! print-funktiossa voit pilkulla erottaa muuttujia toisistaan.\n",
    "\n",
    "c = x*y\n",
    "print(\"Kertolasku:\",c)\n",
    "\n",
    "c = x/y\n",
    "print(\"Jakolasku:\",c)\n",
    "\n",
    "#Kantalukuna on x, ja potenssina on y\n",
    "c = x**y\n",
    "print(\"Potenssi:\", c)\n"
   ]
  },
  {
   "cell_type": "markdown",
   "metadata": {},
   "source": [
    "Muuttumalla vain x:n ja y:n arvoja, ohjelman tulisi tulostaa:\n",
    "\n",
    "a) kerto- ja jakolaskusta tulisi nolla\n",
    "\n",
    "b) Saada virheilmoitus \"ZeroDivisionError\"\n",
    "\n",
    "c) Muuta muuttujan y:n arvoa siten, että yhteenlaskusta tulisi positiivinen ja vähennyslaskusta negatiivinen luku.\n",
    "\n",
    "d) Kokeile miten suuren luvun saat aikaiseksi potenssi laskusta muuttamalla y:n ja x:n arvoja. Miten käy laskenta-ajalle?"
   ]
  },
  {
   "cell_type": "markdown",
   "metadata": {},
   "source": [
    "# Ehtolauseet "
   ]
  },
  {
   "cell_type": "markdown",
   "metadata": {},
   "source": [
    "Ehtolauseilla voidaan antaa ohjelmalle ehtoja ja tekemään mitä halutaan. Käydään ehtolauseet läpi esimerkein.\n",
    "Matemaattiset ehdot python-syntaksissa:\n",
    "\n",
    " \\begin{array}{lcr}\n",
    "\\mbox{Suurempi kuin} & a < b   \\\\\n",
    "\\mbox{Pienempi kuin} & a > b  \\\\\n",
    "\\mbox{Suurempi tai yhtäsuuri} & a =< b  \\\\\n",
    "\\mbox{Pienempi tai yhtäsuuri} & a => b  \\\\\n",
    "\\mbox{Yhtäsuuri kuin} & a == b \\\\\n",
    " \\end{array}  \n",
    "\n",
    "Huom! a = b ja a == b ei ole sama asia. Tapauksessa \"a=b\" a:sta tulee b, kun taas tapausessa \"a == b\" a:ta verrataan b:hen. Jos muuttujat on samat, ehto palauttaa toden.\n",
    "\n",
    "if-ehto toimii siten, että jos ehto on tosi niin silloin mennään if-ehdon sisälle muussa tapauksessa jatketaan eteenpäin.\n"
   ]
  },
  {
   "cell_type": "code",
   "execution_count": null,
   "metadata": {},
   "outputs": [],
   "source": [
    "#IF-ehto\n",
    "\n",
    "#Yksinkertainen koodi jossa kysytään laukun massa ja hylätään liian suuri laukku.\n",
    "#input-funktiolla voidaan syöttää komentoriville arvo, joka tässä tapauksessa menee muuttujan \"laukunMassa\" arvoksi.\n",
    "#float-funktio input-funktion ulkopuolella muuttaa muuttujan arvon merkkijonosta numeroksi.\n",
    "laukunMassa = float(input(\"Anna laukun massa:\"))\n",
    "\n",
    "#Ehtolause\n",
    "#Jos laukun massa on yli 50 kg, niin hylätään. Muussa tapauksessa toivotetaan hyvää matkaa.\n",
    "\n",
    "if(laukunMassa > 50):\n",
    "    print(\"Laukku on liian painava.\")\n",
    "else:\n",
    "    print(\"Hyvää matkaa!\")\n",
    "#Huomaa if-lauseen syntaksi. if(ehto): ja tämän jälkeen jos ehto on tosi, niin tarvittava koodi ei saa alkaa \n",
    "#samalta riviltä!!!!\n",
    "\n"
   ]
  }
 ],
 "metadata": {
  "kernelspec": {
   "display_name": "Python 3",
   "language": "python",
   "name": "python3"
  },
  "language_info": {
   "codemirror_mode": {
    "name": "ipython",
    "version": 3
   },
   "file_extension": ".py",
   "mimetype": "text/x-python",
   "name": "python",
   "nbconvert_exporter": "python",
   "pygments_lexer": "ipython3",
   "version": "3.6.1"
  }
 },
 "nbformat": 4,
 "nbformat_minor": 2
}
